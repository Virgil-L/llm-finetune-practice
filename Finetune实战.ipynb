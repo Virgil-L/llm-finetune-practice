{
  "nbformat": 4,
  "nbformat_minor": 0,
  "metadata": {
    "colab": {
      "provenance": [],
      "authorship_tag": "ABX9TyN9iTd4RbB+R0MDC9kaE2FQ",
      "include_colab_link": true
    },
    "kernelspec": {
      "name": "python3",
      "display_name": "Python 3"
    },
    "language_info": {
      "name": "python"
    },
    "gpuClass": "standard",
    "widgets": {
      "application/vnd.jupyter.widget-state+json": {
        "c97db548a0b24ca49264ada4a4ec479a": {
          "model_module": "@jupyter-widgets/controls",
          "model_name": "HBoxModel",
          "model_module_version": "1.5.0",
          "state": {
            "_dom_classes": [],
            "_model_module": "@jupyter-widgets/controls",
            "_model_module_version": "1.5.0",
            "_model_name": "HBoxModel",
            "_view_count": null,
            "_view_module": "@jupyter-widgets/controls",
            "_view_module_version": "1.5.0",
            "_view_name": "HBoxView",
            "box_style": "",
            "children": [
              "IPY_MODEL_ecad75e2ec704e7896dbceaabbedcd38",
              "IPY_MODEL_b524aa3de1204cd1b10a03d69fc5ce44",
              "IPY_MODEL_5c7fa2abe653463c9bf8698825ac73fb"
            ],
            "layout": "IPY_MODEL_fbe8985efa99485daa339378ab2705a8"
          }
        },
        "ecad75e2ec704e7896dbceaabbedcd38": {
          "model_module": "@jupyter-widgets/controls",
          "model_name": "HTMLModel",
          "model_module_version": "1.5.0",
          "state": {
            "_dom_classes": [],
            "_model_module": "@jupyter-widgets/controls",
            "_model_module_version": "1.5.0",
            "_model_name": "HTMLModel",
            "_view_count": null,
            "_view_module": "@jupyter-widgets/controls",
            "_view_module_version": "1.5.0",
            "_view_name": "HTMLView",
            "description": "",
            "description_tooltip": null,
            "layout": "IPY_MODEL_f7dd3b6b29594784b5ecaeed8583dbf5",
            "placeholder": "​",
            "style": "IPY_MODEL_3e7189a222b6484b8f6f7c3f3d03f63c",
            "value": "Downloading (…)solve/main/vocab.txt: 100%"
          }
        },
        "b524aa3de1204cd1b10a03d69fc5ce44": {
          "model_module": "@jupyter-widgets/controls",
          "model_name": "FloatProgressModel",
          "model_module_version": "1.5.0",
          "state": {
            "_dom_classes": [],
            "_model_module": "@jupyter-widgets/controls",
            "_model_module_version": "1.5.0",
            "_model_name": "FloatProgressModel",
            "_view_count": null,
            "_view_module": "@jupyter-widgets/controls",
            "_view_module_version": "1.5.0",
            "_view_name": "ProgressView",
            "bar_style": "success",
            "description": "",
            "description_tooltip": null,
            "layout": "IPY_MODEL_88560ace153e4aeca6ce402fc465f888",
            "max": 109540,
            "min": 0,
            "orientation": "horizontal",
            "style": "IPY_MODEL_a44ef1b321994b6f990f2f4e119a326b",
            "value": 109540
          }
        },
        "5c7fa2abe653463c9bf8698825ac73fb": {
          "model_module": "@jupyter-widgets/controls",
          "model_name": "HTMLModel",
          "model_module_version": "1.5.0",
          "state": {
            "_dom_classes": [],
            "_model_module": "@jupyter-widgets/controls",
            "_model_module_version": "1.5.0",
            "_model_name": "HTMLModel",
            "_view_count": null,
            "_view_module": "@jupyter-widgets/controls",
            "_view_module_version": "1.5.0",
            "_view_name": "HTMLView",
            "description": "",
            "description_tooltip": null,
            "layout": "IPY_MODEL_66c2a496f0c248d592cfd165ec5dc577",
            "placeholder": "​",
            "style": "IPY_MODEL_9ff9e9bc62ce47d4a83d1a5a029e9460",
            "value": " 110k/110k [00:00&lt;00:00, 509kB/s]"
          }
        },
        "fbe8985efa99485daa339378ab2705a8": {
          "model_module": "@jupyter-widgets/base",
          "model_name": "LayoutModel",
          "model_module_version": "1.2.0",
          "state": {
            "_model_module": "@jupyter-widgets/base",
            "_model_module_version": "1.2.0",
            "_model_name": "LayoutModel",
            "_view_count": null,
            "_view_module": "@jupyter-widgets/base",
            "_view_module_version": "1.2.0",
            "_view_name": "LayoutView",
            "align_content": null,
            "align_items": null,
            "align_self": null,
            "border": null,
            "bottom": null,
            "display": null,
            "flex": null,
            "flex_flow": null,
            "grid_area": null,
            "grid_auto_columns": null,
            "grid_auto_flow": null,
            "grid_auto_rows": null,
            "grid_column": null,
            "grid_gap": null,
            "grid_row": null,
            "grid_template_areas": null,
            "grid_template_columns": null,
            "grid_template_rows": null,
            "height": null,
            "justify_content": null,
            "justify_items": null,
            "left": null,
            "margin": null,
            "max_height": null,
            "max_width": null,
            "min_height": null,
            "min_width": null,
            "object_fit": null,
            "object_position": null,
            "order": null,
            "overflow": null,
            "overflow_x": null,
            "overflow_y": null,
            "padding": null,
            "right": null,
            "top": null,
            "visibility": null,
            "width": null
          }
        },
        "f7dd3b6b29594784b5ecaeed8583dbf5": {
          "model_module": "@jupyter-widgets/base",
          "model_name": "LayoutModel",
          "model_module_version": "1.2.0",
          "state": {
            "_model_module": "@jupyter-widgets/base",
            "_model_module_version": "1.2.0",
            "_model_name": "LayoutModel",
            "_view_count": null,
            "_view_module": "@jupyter-widgets/base",
            "_view_module_version": "1.2.0",
            "_view_name": "LayoutView",
            "align_content": null,
            "align_items": null,
            "align_self": null,
            "border": null,
            "bottom": null,
            "display": null,
            "flex": null,
            "flex_flow": null,
            "grid_area": null,
            "grid_auto_columns": null,
            "grid_auto_flow": null,
            "grid_auto_rows": null,
            "grid_column": null,
            "grid_gap": null,
            "grid_row": null,
            "grid_template_areas": null,
            "grid_template_columns": null,
            "grid_template_rows": null,
            "height": null,
            "justify_content": null,
            "justify_items": null,
            "left": null,
            "margin": null,
            "max_height": null,
            "max_width": null,
            "min_height": null,
            "min_width": null,
            "object_fit": null,
            "object_position": null,
            "order": null,
            "overflow": null,
            "overflow_x": null,
            "overflow_y": null,
            "padding": null,
            "right": null,
            "top": null,
            "visibility": null,
            "width": null
          }
        },
        "3e7189a222b6484b8f6f7c3f3d03f63c": {
          "model_module": "@jupyter-widgets/controls",
          "model_name": "DescriptionStyleModel",
          "model_module_version": "1.5.0",
          "state": {
            "_model_module": "@jupyter-widgets/controls",
            "_model_module_version": "1.5.0",
            "_model_name": "DescriptionStyleModel",
            "_view_count": null,
            "_view_module": "@jupyter-widgets/base",
            "_view_module_version": "1.2.0",
            "_view_name": "StyleView",
            "description_width": ""
          }
        },
        "88560ace153e4aeca6ce402fc465f888": {
          "model_module": "@jupyter-widgets/base",
          "model_name": "LayoutModel",
          "model_module_version": "1.2.0",
          "state": {
            "_model_module": "@jupyter-widgets/base",
            "_model_module_version": "1.2.0",
            "_model_name": "LayoutModel",
            "_view_count": null,
            "_view_module": "@jupyter-widgets/base",
            "_view_module_version": "1.2.0",
            "_view_name": "LayoutView",
            "align_content": null,
            "align_items": null,
            "align_self": null,
            "border": null,
            "bottom": null,
            "display": null,
            "flex": null,
            "flex_flow": null,
            "grid_area": null,
            "grid_auto_columns": null,
            "grid_auto_flow": null,
            "grid_auto_rows": null,
            "grid_column": null,
            "grid_gap": null,
            "grid_row": null,
            "grid_template_areas": null,
            "grid_template_columns": null,
            "grid_template_rows": null,
            "height": null,
            "justify_content": null,
            "justify_items": null,
            "left": null,
            "margin": null,
            "max_height": null,
            "max_width": null,
            "min_height": null,
            "min_width": null,
            "object_fit": null,
            "object_position": null,
            "order": null,
            "overflow": null,
            "overflow_x": null,
            "overflow_y": null,
            "padding": null,
            "right": null,
            "top": null,
            "visibility": null,
            "width": null
          }
        },
        "a44ef1b321994b6f990f2f4e119a326b": {
          "model_module": "@jupyter-widgets/controls",
          "model_name": "ProgressStyleModel",
          "model_module_version": "1.5.0",
          "state": {
            "_model_module": "@jupyter-widgets/controls",
            "_model_module_version": "1.5.0",
            "_model_name": "ProgressStyleModel",
            "_view_count": null,
            "_view_module": "@jupyter-widgets/base",
            "_view_module_version": "1.2.0",
            "_view_name": "StyleView",
            "bar_color": null,
            "description_width": ""
          }
        },
        "66c2a496f0c248d592cfd165ec5dc577": {
          "model_module": "@jupyter-widgets/base",
          "model_name": "LayoutModel",
          "model_module_version": "1.2.0",
          "state": {
            "_model_module": "@jupyter-widgets/base",
            "_model_module_version": "1.2.0",
            "_model_name": "LayoutModel",
            "_view_count": null,
            "_view_module": "@jupyter-widgets/base",
            "_view_module_version": "1.2.0",
            "_view_name": "LayoutView",
            "align_content": null,
            "align_items": null,
            "align_self": null,
            "border": null,
            "bottom": null,
            "display": null,
            "flex": null,
            "flex_flow": null,
            "grid_area": null,
            "grid_auto_columns": null,
            "grid_auto_flow": null,
            "grid_auto_rows": null,
            "grid_column": null,
            "grid_gap": null,
            "grid_row": null,
            "grid_template_areas": null,
            "grid_template_columns": null,
            "grid_template_rows": null,
            "height": null,
            "justify_content": null,
            "justify_items": null,
            "left": null,
            "margin": null,
            "max_height": null,
            "max_width": null,
            "min_height": null,
            "min_width": null,
            "object_fit": null,
            "object_position": null,
            "order": null,
            "overflow": null,
            "overflow_x": null,
            "overflow_y": null,
            "padding": null,
            "right": null,
            "top": null,
            "visibility": null,
            "width": null
          }
        },
        "9ff9e9bc62ce47d4a83d1a5a029e9460": {
          "model_module": "@jupyter-widgets/controls",
          "model_name": "DescriptionStyleModel",
          "model_module_version": "1.5.0",
          "state": {
            "_model_module": "@jupyter-widgets/controls",
            "_model_module_version": "1.5.0",
            "_model_name": "DescriptionStyleModel",
            "_view_count": null,
            "_view_module": "@jupyter-widgets/base",
            "_view_module_version": "1.2.0",
            "_view_name": "StyleView",
            "description_width": ""
          }
        },
        "f61190755cf8448da540c4cf5f278000": {
          "model_module": "@jupyter-widgets/controls",
          "model_name": "HBoxModel",
          "model_module_version": "1.5.0",
          "state": {
            "_dom_classes": [],
            "_model_module": "@jupyter-widgets/controls",
            "_model_module_version": "1.5.0",
            "_model_name": "HBoxModel",
            "_view_count": null,
            "_view_module": "@jupyter-widgets/controls",
            "_view_module_version": "1.5.0",
            "_view_name": "HBoxView",
            "box_style": "",
            "children": [
              "IPY_MODEL_35640d3c673c419bbceb4832462de2fb",
              "IPY_MODEL_ca0097e8d6444ffc917c24aac0d81413",
              "IPY_MODEL_854453d676ba41e999c8025811ddd967"
            ],
            "layout": "IPY_MODEL_825c455e7b9944189edc48ca9c1f94c0"
          }
        },
        "35640d3c673c419bbceb4832462de2fb": {
          "model_module": "@jupyter-widgets/controls",
          "model_name": "HTMLModel",
          "model_module_version": "1.5.0",
          "state": {
            "_dom_classes": [],
            "_model_module": "@jupyter-widgets/controls",
            "_model_module_version": "1.5.0",
            "_model_name": "HTMLModel",
            "_view_count": null,
            "_view_module": "@jupyter-widgets/controls",
            "_view_module_version": "1.5.0",
            "_view_name": "HTMLView",
            "description": "",
            "description_tooltip": null,
            "layout": "IPY_MODEL_a006894eb8a946af8efd20d935003f79",
            "placeholder": "​",
            "style": "IPY_MODEL_b2f4715f14884038a81dcbcf9f577a8a",
            "value": "Downloading (…)lve/main/config.json: 100%"
          }
        },
        "ca0097e8d6444ffc917c24aac0d81413": {
          "model_module": "@jupyter-widgets/controls",
          "model_name": "FloatProgressModel",
          "model_module_version": "1.5.0",
          "state": {
            "_dom_classes": [],
            "_model_module": "@jupyter-widgets/controls",
            "_model_module_version": "1.5.0",
            "_model_name": "FloatProgressModel",
            "_view_count": null,
            "_view_module": "@jupyter-widgets/controls",
            "_view_module_version": "1.5.0",
            "_view_name": "ProgressView",
            "bar_style": "success",
            "description": "",
            "description_tooltip": null,
            "layout": "IPY_MODEL_154d49a80c3e4212a1df340ebd53f181",
            "max": 849,
            "min": 0,
            "orientation": "horizontal",
            "style": "IPY_MODEL_2f6cfb5686c84e05892d549b8d03bc29",
            "value": 849
          }
        },
        "854453d676ba41e999c8025811ddd967": {
          "model_module": "@jupyter-widgets/controls",
          "model_name": "HTMLModel",
          "model_module_version": "1.5.0",
          "state": {
            "_dom_classes": [],
            "_model_module": "@jupyter-widgets/controls",
            "_model_module_version": "1.5.0",
            "_model_name": "HTMLModel",
            "_view_count": null,
            "_view_module": "@jupyter-widgets/controls",
            "_view_module_version": "1.5.0",
            "_view_name": "HTMLView",
            "description": "",
            "description_tooltip": null,
            "layout": "IPY_MODEL_fa018eda80dd4b3e97528bef93604f58",
            "placeholder": "​",
            "style": "IPY_MODEL_8ae3fbfdd4a9474dbdc4f2ade4daa6b0",
            "value": " 849/849 [00:00&lt;00:00, 15.6kB/s]"
          }
        },
        "825c455e7b9944189edc48ca9c1f94c0": {
          "model_module": "@jupyter-widgets/base",
          "model_name": "LayoutModel",
          "model_module_version": "1.2.0",
          "state": {
            "_model_module": "@jupyter-widgets/base",
            "_model_module_version": "1.2.0",
            "_model_name": "LayoutModel",
            "_view_count": null,
            "_view_module": "@jupyter-widgets/base",
            "_view_module_version": "1.2.0",
            "_view_name": "LayoutView",
            "align_content": null,
            "align_items": null,
            "align_self": null,
            "border": null,
            "bottom": null,
            "display": null,
            "flex": null,
            "flex_flow": null,
            "grid_area": null,
            "grid_auto_columns": null,
            "grid_auto_flow": null,
            "grid_auto_rows": null,
            "grid_column": null,
            "grid_gap": null,
            "grid_row": null,
            "grid_template_areas": null,
            "grid_template_columns": null,
            "grid_template_rows": null,
            "height": null,
            "justify_content": null,
            "justify_items": null,
            "left": null,
            "margin": null,
            "max_height": null,
            "max_width": null,
            "min_height": null,
            "min_width": null,
            "object_fit": null,
            "object_position": null,
            "order": null,
            "overflow": null,
            "overflow_x": null,
            "overflow_y": null,
            "padding": null,
            "right": null,
            "top": null,
            "visibility": null,
            "width": null
          }
        },
        "a006894eb8a946af8efd20d935003f79": {
          "model_module": "@jupyter-widgets/base",
          "model_name": "LayoutModel",
          "model_module_version": "1.2.0",
          "state": {
            "_model_module": "@jupyter-widgets/base",
            "_model_module_version": "1.2.0",
            "_model_name": "LayoutModel",
            "_view_count": null,
            "_view_module": "@jupyter-widgets/base",
            "_view_module_version": "1.2.0",
            "_view_name": "LayoutView",
            "align_content": null,
            "align_items": null,
            "align_self": null,
            "border": null,
            "bottom": null,
            "display": null,
            "flex": null,
            "flex_flow": null,
            "grid_area": null,
            "grid_auto_columns": null,
            "grid_auto_flow": null,
            "grid_auto_rows": null,
            "grid_column": null,
            "grid_gap": null,
            "grid_row": null,
            "grid_template_areas": null,
            "grid_template_columns": null,
            "grid_template_rows": null,
            "height": null,
            "justify_content": null,
            "justify_items": null,
            "left": null,
            "margin": null,
            "max_height": null,
            "max_width": null,
            "min_height": null,
            "min_width": null,
            "object_fit": null,
            "object_position": null,
            "order": null,
            "overflow": null,
            "overflow_x": null,
            "overflow_y": null,
            "padding": null,
            "right": null,
            "top": null,
            "visibility": null,
            "width": null
          }
        },
        "b2f4715f14884038a81dcbcf9f577a8a": {
          "model_module": "@jupyter-widgets/controls",
          "model_name": "DescriptionStyleModel",
          "model_module_version": "1.5.0",
          "state": {
            "_model_module": "@jupyter-widgets/controls",
            "_model_module_version": "1.5.0",
            "_model_name": "DescriptionStyleModel",
            "_view_count": null,
            "_view_module": "@jupyter-widgets/base",
            "_view_module_version": "1.2.0",
            "_view_name": "StyleView",
            "description_width": ""
          }
        },
        "154d49a80c3e4212a1df340ebd53f181": {
          "model_module": "@jupyter-widgets/base",
          "model_name": "LayoutModel",
          "model_module_version": "1.2.0",
          "state": {
            "_model_module": "@jupyter-widgets/base",
            "_model_module_version": "1.2.0",
            "_model_name": "LayoutModel",
            "_view_count": null,
            "_view_module": "@jupyter-widgets/base",
            "_view_module_version": "1.2.0",
            "_view_name": "LayoutView",
            "align_content": null,
            "align_items": null,
            "align_self": null,
            "border": null,
            "bottom": null,
            "display": null,
            "flex": null,
            "flex_flow": null,
            "grid_area": null,
            "grid_auto_columns": null,
            "grid_auto_flow": null,
            "grid_auto_rows": null,
            "grid_column": null,
            "grid_gap": null,
            "grid_row": null,
            "grid_template_areas": null,
            "grid_template_columns": null,
            "grid_template_rows": null,
            "height": null,
            "justify_content": null,
            "justify_items": null,
            "left": null,
            "margin": null,
            "max_height": null,
            "max_width": null,
            "min_height": null,
            "min_width": null,
            "object_fit": null,
            "object_position": null,
            "order": null,
            "overflow": null,
            "overflow_x": null,
            "overflow_y": null,
            "padding": null,
            "right": null,
            "top": null,
            "visibility": null,
            "width": null
          }
        },
        "2f6cfb5686c84e05892d549b8d03bc29": {
          "model_module": "@jupyter-widgets/controls",
          "model_name": "ProgressStyleModel",
          "model_module_version": "1.5.0",
          "state": {
            "_model_module": "@jupyter-widgets/controls",
            "_model_module_version": "1.5.0",
            "_model_name": "ProgressStyleModel",
            "_view_count": null,
            "_view_module": "@jupyter-widgets/base",
            "_view_module_version": "1.2.0",
            "_view_name": "StyleView",
            "bar_color": null,
            "description_width": ""
          }
        },
        "fa018eda80dd4b3e97528bef93604f58": {
          "model_module": "@jupyter-widgets/base",
          "model_name": "LayoutModel",
          "model_module_version": "1.2.0",
          "state": {
            "_model_module": "@jupyter-widgets/base",
            "_model_module_version": "1.2.0",
            "_model_name": "LayoutModel",
            "_view_count": null,
            "_view_module": "@jupyter-widgets/base",
            "_view_module_version": "1.2.0",
            "_view_name": "LayoutView",
            "align_content": null,
            "align_items": null,
            "align_self": null,
            "border": null,
            "bottom": null,
            "display": null,
            "flex": null,
            "flex_flow": null,
            "grid_area": null,
            "grid_auto_columns": null,
            "grid_auto_flow": null,
            "grid_auto_rows": null,
            "grid_column": null,
            "grid_gap": null,
            "grid_row": null,
            "grid_template_areas": null,
            "grid_template_columns": null,
            "grid_template_rows": null,
            "height": null,
            "justify_content": null,
            "justify_items": null,
            "left": null,
            "margin": null,
            "max_height": null,
            "max_width": null,
            "min_height": null,
            "min_width": null,
            "object_fit": null,
            "object_position": null,
            "order": null,
            "overflow": null,
            "overflow_x": null,
            "overflow_y": null,
            "padding": null,
            "right": null,
            "top": null,
            "visibility": null,
            "width": null
          }
        },
        "8ae3fbfdd4a9474dbdc4f2ade4daa6b0": {
          "model_module": "@jupyter-widgets/controls",
          "model_name": "DescriptionStyleModel",
          "model_module_version": "1.5.0",
          "state": {
            "_model_module": "@jupyter-widgets/controls",
            "_model_module_version": "1.5.0",
            "_model_name": "DescriptionStyleModel",
            "_view_count": null,
            "_view_module": "@jupyter-widgets/base",
            "_view_module_version": "1.2.0",
            "_view_name": "StyleView",
            "description_width": ""
          }
        },
        "ca578fe9f04e487ba69bd814aab13bb8": {
          "model_module": "@jupyter-widgets/controls",
          "model_name": "HBoxModel",
          "model_module_version": "1.5.0",
          "state": {
            "_dom_classes": [],
            "_model_module": "@jupyter-widgets/controls",
            "_model_module_version": "1.5.0",
            "_model_name": "HBoxModel",
            "_view_count": null,
            "_view_module": "@jupyter-widgets/controls",
            "_view_module_version": "1.5.0",
            "_view_name": "HBoxView",
            "box_style": "",
            "children": [
              "IPY_MODEL_15eb85083a7c4330948be8286a3cc1f2",
              "IPY_MODEL_73f7e0d695684d17bf5fe9431c43dcdf",
              "IPY_MODEL_8a8c9384138448a4b7bc5d854897186e"
            ],
            "layout": "IPY_MODEL_0cc13de4c1184a35b017db1366807833"
          }
        },
        "15eb85083a7c4330948be8286a3cc1f2": {
          "model_module": "@jupyter-widgets/controls",
          "model_name": "HTMLModel",
          "model_module_version": "1.5.0",
          "state": {
            "_dom_classes": [],
            "_model_module": "@jupyter-widgets/controls",
            "_model_module_version": "1.5.0",
            "_model_name": "HTMLModel",
            "_view_count": null,
            "_view_module": "@jupyter-widgets/controls",
            "_view_module_version": "1.5.0",
            "_view_name": "HTMLView",
            "description": "",
            "description_tooltip": null,
            "layout": "IPY_MODEL_41aaed6181ae4c03824927ce59bc2f25",
            "placeholder": "​",
            "style": "IPY_MODEL_a1e5a87e1b7e48899a4cc8f30fe5ade9",
            "value": "Downloading (…)solve/main/vocab.txt: 100%"
          }
        },
        "73f7e0d695684d17bf5fe9431c43dcdf": {
          "model_module": "@jupyter-widgets/controls",
          "model_name": "FloatProgressModel",
          "model_module_version": "1.5.0",
          "state": {
            "_dom_classes": [],
            "_model_module": "@jupyter-widgets/controls",
            "_model_module_version": "1.5.0",
            "_model_name": "FloatProgressModel",
            "_view_count": null,
            "_view_module": "@jupyter-widgets/controls",
            "_view_module_version": "1.5.0",
            "_view_name": "ProgressView",
            "bar_style": "success",
            "description": "",
            "description_tooltip": null,
            "layout": "IPY_MODEL_44d012c5f7124ab087f4a38810fecf84",
            "max": 109540,
            "min": 0,
            "orientation": "horizontal",
            "style": "IPY_MODEL_1f6a34c5dea44224b8acf49720d3c5a0",
            "value": 109540
          }
        },
        "8a8c9384138448a4b7bc5d854897186e": {
          "model_module": "@jupyter-widgets/controls",
          "model_name": "HTMLModel",
          "model_module_version": "1.5.0",
          "state": {
            "_dom_classes": [],
            "_model_module": "@jupyter-widgets/controls",
            "_model_module_version": "1.5.0",
            "_model_name": "HTMLModel",
            "_view_count": null,
            "_view_module": "@jupyter-widgets/controls",
            "_view_module_version": "1.5.0",
            "_view_name": "HTMLView",
            "description": "",
            "description_tooltip": null,
            "layout": "IPY_MODEL_8b4afe5f0f504872ba68a29d1ab4de7d",
            "placeholder": "​",
            "style": "IPY_MODEL_d4576160a4204ac49b77676499337039",
            "value": " 110k/110k [00:00&lt;00:00, 513kB/s]"
          }
        },
        "0cc13de4c1184a35b017db1366807833": {
          "model_module": "@jupyter-widgets/base",
          "model_name": "LayoutModel",
          "model_module_version": "1.2.0",
          "state": {
            "_model_module": "@jupyter-widgets/base",
            "_model_module_version": "1.2.0",
            "_model_name": "LayoutModel",
            "_view_count": null,
            "_view_module": "@jupyter-widgets/base",
            "_view_module_version": "1.2.0",
            "_view_name": "LayoutView",
            "align_content": null,
            "align_items": null,
            "align_self": null,
            "border": null,
            "bottom": null,
            "display": null,
            "flex": null,
            "flex_flow": null,
            "grid_area": null,
            "grid_auto_columns": null,
            "grid_auto_flow": null,
            "grid_auto_rows": null,
            "grid_column": null,
            "grid_gap": null,
            "grid_row": null,
            "grid_template_areas": null,
            "grid_template_columns": null,
            "grid_template_rows": null,
            "height": null,
            "justify_content": null,
            "justify_items": null,
            "left": null,
            "margin": null,
            "max_height": null,
            "max_width": null,
            "min_height": null,
            "min_width": null,
            "object_fit": null,
            "object_position": null,
            "order": null,
            "overflow": null,
            "overflow_x": null,
            "overflow_y": null,
            "padding": null,
            "right": null,
            "top": null,
            "visibility": null,
            "width": null
          }
        },
        "41aaed6181ae4c03824927ce59bc2f25": {
          "model_module": "@jupyter-widgets/base",
          "model_name": "LayoutModel",
          "model_module_version": "1.2.0",
          "state": {
            "_model_module": "@jupyter-widgets/base",
            "_model_module_version": "1.2.0",
            "_model_name": "LayoutModel",
            "_view_count": null,
            "_view_module": "@jupyter-widgets/base",
            "_view_module_version": "1.2.0",
            "_view_name": "LayoutView",
            "align_content": null,
            "align_items": null,
            "align_self": null,
            "border": null,
            "bottom": null,
            "display": null,
            "flex": null,
            "flex_flow": null,
            "grid_area": null,
            "grid_auto_columns": null,
            "grid_auto_flow": null,
            "grid_auto_rows": null,
            "grid_column": null,
            "grid_gap": null,
            "grid_row": null,
            "grid_template_areas": null,
            "grid_template_columns": null,
            "grid_template_rows": null,
            "height": null,
            "justify_content": null,
            "justify_items": null,
            "left": null,
            "margin": null,
            "max_height": null,
            "max_width": null,
            "min_height": null,
            "min_width": null,
            "object_fit": null,
            "object_position": null,
            "order": null,
            "overflow": null,
            "overflow_x": null,
            "overflow_y": null,
            "padding": null,
            "right": null,
            "top": null,
            "visibility": null,
            "width": null
          }
        },
        "a1e5a87e1b7e48899a4cc8f30fe5ade9": {
          "model_module": "@jupyter-widgets/controls",
          "model_name": "DescriptionStyleModel",
          "model_module_version": "1.5.0",
          "state": {
            "_model_module": "@jupyter-widgets/controls",
            "_model_module_version": "1.5.0",
            "_model_name": "DescriptionStyleModel",
            "_view_count": null,
            "_view_module": "@jupyter-widgets/base",
            "_view_module_version": "1.2.0",
            "_view_name": "StyleView",
            "description_width": ""
          }
        },
        "44d012c5f7124ab087f4a38810fecf84": {
          "model_module": "@jupyter-widgets/base",
          "model_name": "LayoutModel",
          "model_module_version": "1.2.0",
          "state": {
            "_model_module": "@jupyter-widgets/base",
            "_model_module_version": "1.2.0",
            "_model_name": "LayoutModel",
            "_view_count": null,
            "_view_module": "@jupyter-widgets/base",
            "_view_module_version": "1.2.0",
            "_view_name": "LayoutView",
            "align_content": null,
            "align_items": null,
            "align_self": null,
            "border": null,
            "bottom": null,
            "display": null,
            "flex": null,
            "flex_flow": null,
            "grid_area": null,
            "grid_auto_columns": null,
            "grid_auto_flow": null,
            "grid_auto_rows": null,
            "grid_column": null,
            "grid_gap": null,
            "grid_row": null,
            "grid_template_areas": null,
            "grid_template_columns": null,
            "grid_template_rows": null,
            "height": null,
            "justify_content": null,
            "justify_items": null,
            "left": null,
            "margin": null,
            "max_height": null,
            "max_width": null,
            "min_height": null,
            "min_width": null,
            "object_fit": null,
            "object_position": null,
            "order": null,
            "overflow": null,
            "overflow_x": null,
            "overflow_y": null,
            "padding": null,
            "right": null,
            "top": null,
            "visibility": null,
            "width": null
          }
        },
        "1f6a34c5dea44224b8acf49720d3c5a0": {
          "model_module": "@jupyter-widgets/controls",
          "model_name": "ProgressStyleModel",
          "model_module_version": "1.5.0",
          "state": {
            "_model_module": "@jupyter-widgets/controls",
            "_model_module_version": "1.5.0",
            "_model_name": "ProgressStyleModel",
            "_view_count": null,
            "_view_module": "@jupyter-widgets/base",
            "_view_module_version": "1.2.0",
            "_view_name": "StyleView",
            "bar_color": null,
            "description_width": ""
          }
        },
        "8b4afe5f0f504872ba68a29d1ab4de7d": {
          "model_module": "@jupyter-widgets/base",
          "model_name": "LayoutModel",
          "model_module_version": "1.2.0",
          "state": {
            "_model_module": "@jupyter-widgets/base",
            "_model_module_version": "1.2.0",
            "_model_name": "LayoutModel",
            "_view_count": null,
            "_view_module": "@jupyter-widgets/base",
            "_view_module_version": "1.2.0",
            "_view_name": "LayoutView",
            "align_content": null,
            "align_items": null,
            "align_self": null,
            "border": null,
            "bottom": null,
            "display": null,
            "flex": null,
            "flex_flow": null,
            "grid_area": null,
            "grid_auto_columns": null,
            "grid_auto_flow": null,
            "grid_auto_rows": null,
            "grid_column": null,
            "grid_gap": null,
            "grid_row": null,
            "grid_template_areas": null,
            "grid_template_columns": null,
            "grid_template_rows": null,
            "height": null,
            "justify_content": null,
            "justify_items": null,
            "left": null,
            "margin": null,
            "max_height": null,
            "max_width": null,
            "min_height": null,
            "min_width": null,
            "object_fit": null,
            "object_position": null,
            "order": null,
            "overflow": null,
            "overflow_x": null,
            "overflow_y": null,
            "padding": null,
            "right": null,
            "top": null,
            "visibility": null,
            "width": null
          }
        },
        "d4576160a4204ac49b77676499337039": {
          "model_module": "@jupyter-widgets/controls",
          "model_name": "DescriptionStyleModel",
          "model_module_version": "1.5.0",
          "state": {
            "_model_module": "@jupyter-widgets/controls",
            "_model_module_version": "1.5.0",
            "_model_name": "DescriptionStyleModel",
            "_view_count": null,
            "_view_module": "@jupyter-widgets/base",
            "_view_module_version": "1.2.0",
            "_view_name": "StyleView",
            "description_width": ""
          }
        },
        "50802f9252ae4d5a9edd300c95ccc5fd": {
          "model_module": "@jupyter-widgets/controls",
          "model_name": "HBoxModel",
          "model_module_version": "1.5.0",
          "state": {
            "_dom_classes": [],
            "_model_module": "@jupyter-widgets/controls",
            "_model_module_version": "1.5.0",
            "_model_name": "HBoxModel",
            "_view_count": null,
            "_view_module": "@jupyter-widgets/controls",
            "_view_module_version": "1.5.0",
            "_view_name": "HBoxView",
            "box_style": "",
            "children": [
              "IPY_MODEL_006c53597c2e405b8dbe59a898451cc7",
              "IPY_MODEL_3d2a03a08432493392335a4557e503e7",
              "IPY_MODEL_89da3c9086be4e7998d2c4bfc8f3b411"
            ],
            "layout": "IPY_MODEL_f1b69aa81c4c448d96c7277184f4adda"
          }
        },
        "006c53597c2e405b8dbe59a898451cc7": {
          "model_module": "@jupyter-widgets/controls",
          "model_name": "HTMLModel",
          "model_module_version": "1.5.0",
          "state": {
            "_dom_classes": [],
            "_model_module": "@jupyter-widgets/controls",
            "_model_module_version": "1.5.0",
            "_model_name": "HTMLModel",
            "_view_count": null,
            "_view_module": "@jupyter-widgets/controls",
            "_view_module_version": "1.5.0",
            "_view_name": "HTMLView",
            "description": "",
            "description_tooltip": null,
            "layout": "IPY_MODEL_3910db4a592749b9b22c2a6976ef7479",
            "placeholder": "​",
            "style": "IPY_MODEL_405eb78d3dc24f599f05b13c04eaa4b0",
            "value": "Downloading (…)okenizer_config.json: 100%"
          }
        },
        "3d2a03a08432493392335a4557e503e7": {
          "model_module": "@jupyter-widgets/controls",
          "model_name": "FloatProgressModel",
          "model_module_version": "1.5.0",
          "state": {
            "_dom_classes": [],
            "_model_module": "@jupyter-widgets/controls",
            "_model_module_version": "1.5.0",
            "_model_name": "FloatProgressModel",
            "_view_count": null,
            "_view_module": "@jupyter-widgets/controls",
            "_view_module_version": "1.5.0",
            "_view_name": "ProgressView",
            "bar_style": "success",
            "description": "",
            "description_tooltip": null,
            "layout": "IPY_MODEL_0aa8518fa208470995f06c00d5c28a5e",
            "max": 29,
            "min": 0,
            "orientation": "horizontal",
            "style": "IPY_MODEL_efb04d353cec4cf59f894545ea28abdc",
            "value": 29
          }
        },
        "89da3c9086be4e7998d2c4bfc8f3b411": {
          "model_module": "@jupyter-widgets/controls",
          "model_name": "HTMLModel",
          "model_module_version": "1.5.0",
          "state": {
            "_dom_classes": [],
            "_model_module": "@jupyter-widgets/controls",
            "_model_module_version": "1.5.0",
            "_model_name": "HTMLModel",
            "_view_count": null,
            "_view_module": "@jupyter-widgets/controls",
            "_view_module_version": "1.5.0",
            "_view_name": "HTMLView",
            "description": "",
            "description_tooltip": null,
            "layout": "IPY_MODEL_80091ecdd9224af58fd4caa2ff3c977e",
            "placeholder": "​",
            "style": "IPY_MODEL_838a62593254470fa3b1c1cde69e7951",
            "value": " 29.0/29.0 [00:00&lt;00:00, 311B/s]"
          }
        },
        "f1b69aa81c4c448d96c7277184f4adda": {
          "model_module": "@jupyter-widgets/base",
          "model_name": "LayoutModel",
          "model_module_version": "1.2.0",
          "state": {
            "_model_module": "@jupyter-widgets/base",
            "_model_module_version": "1.2.0",
            "_model_name": "LayoutModel",
            "_view_count": null,
            "_view_module": "@jupyter-widgets/base",
            "_view_module_version": "1.2.0",
            "_view_name": "LayoutView",
            "align_content": null,
            "align_items": null,
            "align_self": null,
            "border": null,
            "bottom": null,
            "display": null,
            "flex": null,
            "flex_flow": null,
            "grid_area": null,
            "grid_auto_columns": null,
            "grid_auto_flow": null,
            "grid_auto_rows": null,
            "grid_column": null,
            "grid_gap": null,
            "grid_row": null,
            "grid_template_areas": null,
            "grid_template_columns": null,
            "grid_template_rows": null,
            "height": null,
            "justify_content": null,
            "justify_items": null,
            "left": null,
            "margin": null,
            "max_height": null,
            "max_width": null,
            "min_height": null,
            "min_width": null,
            "object_fit": null,
            "object_position": null,
            "order": null,
            "overflow": null,
            "overflow_x": null,
            "overflow_y": null,
            "padding": null,
            "right": null,
            "top": null,
            "visibility": null,
            "width": null
          }
        },
        "3910db4a592749b9b22c2a6976ef7479": {
          "model_module": "@jupyter-widgets/base",
          "model_name": "LayoutModel",
          "model_module_version": "1.2.0",
          "state": {
            "_model_module": "@jupyter-widgets/base",
            "_model_module_version": "1.2.0",
            "_model_name": "LayoutModel",
            "_view_count": null,
            "_view_module": "@jupyter-widgets/base",
            "_view_module_version": "1.2.0",
            "_view_name": "LayoutView",
            "align_content": null,
            "align_items": null,
            "align_self": null,
            "border": null,
            "bottom": null,
            "display": null,
            "flex": null,
            "flex_flow": null,
            "grid_area": null,
            "grid_auto_columns": null,
            "grid_auto_flow": null,
            "grid_auto_rows": null,
            "grid_column": null,
            "grid_gap": null,
            "grid_row": null,
            "grid_template_areas": null,
            "grid_template_columns": null,
            "grid_template_rows": null,
            "height": null,
            "justify_content": null,
            "justify_items": null,
            "left": null,
            "margin": null,
            "max_height": null,
            "max_width": null,
            "min_height": null,
            "min_width": null,
            "object_fit": null,
            "object_position": null,
            "order": null,
            "overflow": null,
            "overflow_x": null,
            "overflow_y": null,
            "padding": null,
            "right": null,
            "top": null,
            "visibility": null,
            "width": null
          }
        },
        "405eb78d3dc24f599f05b13c04eaa4b0": {
          "model_module": "@jupyter-widgets/controls",
          "model_name": "DescriptionStyleModel",
          "model_module_version": "1.5.0",
          "state": {
            "_model_module": "@jupyter-widgets/controls",
            "_model_module_version": "1.5.0",
            "_model_name": "DescriptionStyleModel",
            "_view_count": null,
            "_view_module": "@jupyter-widgets/base",
            "_view_module_version": "1.2.0",
            "_view_name": "StyleView",
            "description_width": ""
          }
        },
        "0aa8518fa208470995f06c00d5c28a5e": {
          "model_module": "@jupyter-widgets/base",
          "model_name": "LayoutModel",
          "model_module_version": "1.2.0",
          "state": {
            "_model_module": "@jupyter-widgets/base",
            "_model_module_version": "1.2.0",
            "_model_name": "LayoutModel",
            "_view_count": null,
            "_view_module": "@jupyter-widgets/base",
            "_view_module_version": "1.2.0",
            "_view_name": "LayoutView",
            "align_content": null,
            "align_items": null,
            "align_self": null,
            "border": null,
            "bottom": null,
            "display": null,
            "flex": null,
            "flex_flow": null,
            "grid_area": null,
            "grid_auto_columns": null,
            "grid_auto_flow": null,
            "grid_auto_rows": null,
            "grid_column": null,
            "grid_gap": null,
            "grid_row": null,
            "grid_template_areas": null,
            "grid_template_columns": null,
            "grid_template_rows": null,
            "height": null,
            "justify_content": null,
            "justify_items": null,
            "left": null,
            "margin": null,
            "max_height": null,
            "max_width": null,
            "min_height": null,
            "min_width": null,
            "object_fit": null,
            "object_position": null,
            "order": null,
            "overflow": null,
            "overflow_x": null,
            "overflow_y": null,
            "padding": null,
            "right": null,
            "top": null,
            "visibility": null,
            "width": null
          }
        },
        "efb04d353cec4cf59f894545ea28abdc": {
          "model_module": "@jupyter-widgets/controls",
          "model_name": "ProgressStyleModel",
          "model_module_version": "1.5.0",
          "state": {
            "_model_module": "@jupyter-widgets/controls",
            "_model_module_version": "1.5.0",
            "_model_name": "ProgressStyleModel",
            "_view_count": null,
            "_view_module": "@jupyter-widgets/base",
            "_view_module_version": "1.2.0",
            "_view_name": "StyleView",
            "bar_color": null,
            "description_width": ""
          }
        },
        "80091ecdd9224af58fd4caa2ff3c977e": {
          "model_module": "@jupyter-widgets/base",
          "model_name": "LayoutModel",
          "model_module_version": "1.2.0",
          "state": {
            "_model_module": "@jupyter-widgets/base",
            "_model_module_version": "1.2.0",
            "_model_name": "LayoutModel",
            "_view_count": null,
            "_view_module": "@jupyter-widgets/base",
            "_view_module_version": "1.2.0",
            "_view_name": "LayoutView",
            "align_content": null,
            "align_items": null,
            "align_self": null,
            "border": null,
            "bottom": null,
            "display": null,
            "flex": null,
            "flex_flow": null,
            "grid_area": null,
            "grid_auto_columns": null,
            "grid_auto_flow": null,
            "grid_auto_rows": null,
            "grid_column": null,
            "grid_gap": null,
            "grid_row": null,
            "grid_template_areas": null,
            "grid_template_columns": null,
            "grid_template_rows": null,
            "height": null,
            "justify_content": null,
            "justify_items": null,
            "left": null,
            "margin": null,
            "max_height": null,
            "max_width": null,
            "min_height": null,
            "min_width": null,
            "object_fit": null,
            "object_position": null,
            "order": null,
            "overflow": null,
            "overflow_x": null,
            "overflow_y": null,
            "padding": null,
            "right": null,
            "top": null,
            "visibility": null,
            "width": null
          }
        },
        "838a62593254470fa3b1c1cde69e7951": {
          "model_module": "@jupyter-widgets/controls",
          "model_name": "DescriptionStyleModel",
          "model_module_version": "1.5.0",
          "state": {
            "_model_module": "@jupyter-widgets/controls",
            "_model_module_version": "1.5.0",
            "_model_name": "DescriptionStyleModel",
            "_view_count": null,
            "_view_module": "@jupyter-widgets/base",
            "_view_module_version": "1.2.0",
            "_view_name": "StyleView",
            "description_width": ""
          }
        },
        "5b3fd4497d7943e29b71e4f2f6cec792": {
          "model_module": "@jupyter-widgets/controls",
          "model_name": "HBoxModel",
          "model_module_version": "1.5.0",
          "state": {
            "_dom_classes": [],
            "_model_module": "@jupyter-widgets/controls",
            "_model_module_version": "1.5.0",
            "_model_name": "HBoxModel",
            "_view_count": null,
            "_view_module": "@jupyter-widgets/controls",
            "_view_module_version": "1.5.0",
            "_view_name": "HBoxView",
            "box_style": "",
            "children": [
              "IPY_MODEL_6c8bfd9a0b9f4f1dbb2d10667984ed78",
              "IPY_MODEL_06895f07e73444b2a21bdbd437cd3c4c",
              "IPY_MODEL_d126e31f80084f85b73a1f14731e431c"
            ],
            "layout": "IPY_MODEL_f678e34c9fc744aea3ba748d6592bc03"
          }
        },
        "6c8bfd9a0b9f4f1dbb2d10667984ed78": {
          "model_module": "@jupyter-widgets/controls",
          "model_name": "HTMLModel",
          "model_module_version": "1.5.0",
          "state": {
            "_dom_classes": [],
            "_model_module": "@jupyter-widgets/controls",
            "_model_module_version": "1.5.0",
            "_model_name": "HTMLModel",
            "_view_count": null,
            "_view_module": "@jupyter-widgets/controls",
            "_view_module_version": "1.5.0",
            "_view_name": "HTMLView",
            "description": "",
            "description_tooltip": null,
            "layout": "IPY_MODEL_3748631fd3c1436284b7c028f6a9e69b",
            "placeholder": "​",
            "style": "IPY_MODEL_c7be9340f46d48aba43425a8a793cb95",
            "value": "Downloading (…)lve/main/config.json: 100%"
          }
        },
        "06895f07e73444b2a21bdbd437cd3c4c": {
          "model_module": "@jupyter-widgets/controls",
          "model_name": "FloatProgressModel",
          "model_module_version": "1.5.0",
          "state": {
            "_dom_classes": [],
            "_model_module": "@jupyter-widgets/controls",
            "_model_module_version": "1.5.0",
            "_model_name": "FloatProgressModel",
            "_view_count": null,
            "_view_module": "@jupyter-widgets/controls",
            "_view_module_version": "1.5.0",
            "_view_name": "ProgressView",
            "bar_style": "success",
            "description": "",
            "description_tooltip": null,
            "layout": "IPY_MODEL_e99e833438da4085912e33a873712df5",
            "max": 624,
            "min": 0,
            "orientation": "horizontal",
            "style": "IPY_MODEL_36b54f7ef47f4ac384841436f2047fae",
            "value": 624
          }
        },
        "d126e31f80084f85b73a1f14731e431c": {
          "model_module": "@jupyter-widgets/controls",
          "model_name": "HTMLModel",
          "model_module_version": "1.5.0",
          "state": {
            "_dom_classes": [],
            "_model_module": "@jupyter-widgets/controls",
            "_model_module_version": "1.5.0",
            "_model_name": "HTMLModel",
            "_view_count": null,
            "_view_module": "@jupyter-widgets/controls",
            "_view_module_version": "1.5.0",
            "_view_name": "HTMLView",
            "description": "",
            "description_tooltip": null,
            "layout": "IPY_MODEL_a01243572f7f47dfbf3deb44531f753e",
            "placeholder": "​",
            "style": "IPY_MODEL_630ade3925c640589356da069fa409fc",
            "value": " 624/624 [00:00&lt;00:00, 8.88kB/s]"
          }
        },
        "f678e34c9fc744aea3ba748d6592bc03": {
          "model_module": "@jupyter-widgets/base",
          "model_name": "LayoutModel",
          "model_module_version": "1.2.0",
          "state": {
            "_model_module": "@jupyter-widgets/base",
            "_model_module_version": "1.2.0",
            "_model_name": "LayoutModel",
            "_view_count": null,
            "_view_module": "@jupyter-widgets/base",
            "_view_module_version": "1.2.0",
            "_view_name": "LayoutView",
            "align_content": null,
            "align_items": null,
            "align_self": null,
            "border": null,
            "bottom": null,
            "display": null,
            "flex": null,
            "flex_flow": null,
            "grid_area": null,
            "grid_auto_columns": null,
            "grid_auto_flow": null,
            "grid_auto_rows": null,
            "grid_column": null,
            "grid_gap": null,
            "grid_row": null,
            "grid_template_areas": null,
            "grid_template_columns": null,
            "grid_template_rows": null,
            "height": null,
            "justify_content": null,
            "justify_items": null,
            "left": null,
            "margin": null,
            "max_height": null,
            "max_width": null,
            "min_height": null,
            "min_width": null,
            "object_fit": null,
            "object_position": null,
            "order": null,
            "overflow": null,
            "overflow_x": null,
            "overflow_y": null,
            "padding": null,
            "right": null,
            "top": null,
            "visibility": null,
            "width": null
          }
        },
        "3748631fd3c1436284b7c028f6a9e69b": {
          "model_module": "@jupyter-widgets/base",
          "model_name": "LayoutModel",
          "model_module_version": "1.2.0",
          "state": {
            "_model_module": "@jupyter-widgets/base",
            "_model_module_version": "1.2.0",
            "_model_name": "LayoutModel",
            "_view_count": null,
            "_view_module": "@jupyter-widgets/base",
            "_view_module_version": "1.2.0",
            "_view_name": "LayoutView",
            "align_content": null,
            "align_items": null,
            "align_self": null,
            "border": null,
            "bottom": null,
            "display": null,
            "flex": null,
            "flex_flow": null,
            "grid_area": null,
            "grid_auto_columns": null,
            "grid_auto_flow": null,
            "grid_auto_rows": null,
            "grid_column": null,
            "grid_gap": null,
            "grid_row": null,
            "grid_template_areas": null,
            "grid_template_columns": null,
            "grid_template_rows": null,
            "height": null,
            "justify_content": null,
            "justify_items": null,
            "left": null,
            "margin": null,
            "max_height": null,
            "max_width": null,
            "min_height": null,
            "min_width": null,
            "object_fit": null,
            "object_position": null,
            "order": null,
            "overflow": null,
            "overflow_x": null,
            "overflow_y": null,
            "padding": null,
            "right": null,
            "top": null,
            "visibility": null,
            "width": null
          }
        },
        "c7be9340f46d48aba43425a8a793cb95": {
          "model_module": "@jupyter-widgets/controls",
          "model_name": "DescriptionStyleModel",
          "model_module_version": "1.5.0",
          "state": {
            "_model_module": "@jupyter-widgets/controls",
            "_model_module_version": "1.5.0",
            "_model_name": "DescriptionStyleModel",
            "_view_count": null,
            "_view_module": "@jupyter-widgets/base",
            "_view_module_version": "1.2.0",
            "_view_name": "StyleView",
            "description_width": ""
          }
        },
        "e99e833438da4085912e33a873712df5": {
          "model_module": "@jupyter-widgets/base",
          "model_name": "LayoutModel",
          "model_module_version": "1.2.0",
          "state": {
            "_model_module": "@jupyter-widgets/base",
            "_model_module_version": "1.2.0",
            "_model_name": "LayoutModel",
            "_view_count": null,
            "_view_module": "@jupyter-widgets/base",
            "_view_module_version": "1.2.0",
            "_view_name": "LayoutView",
            "align_content": null,
            "align_items": null,
            "align_self": null,
            "border": null,
            "bottom": null,
            "display": null,
            "flex": null,
            "flex_flow": null,
            "grid_area": null,
            "grid_auto_columns": null,
            "grid_auto_flow": null,
            "grid_auto_rows": null,
            "grid_column": null,
            "grid_gap": null,
            "grid_row": null,
            "grid_template_areas": null,
            "grid_template_columns": null,
            "grid_template_rows": null,
            "height": null,
            "justify_content": null,
            "justify_items": null,
            "left": null,
            "margin": null,
            "max_height": null,
            "max_width": null,
            "min_height": null,
            "min_width": null,
            "object_fit": null,
            "object_position": null,
            "order": null,
            "overflow": null,
            "overflow_x": null,
            "overflow_y": null,
            "padding": null,
            "right": null,
            "top": null,
            "visibility": null,
            "width": null
          }
        },
        "36b54f7ef47f4ac384841436f2047fae": {
          "model_module": "@jupyter-widgets/controls",
          "model_name": "ProgressStyleModel",
          "model_module_version": "1.5.0",
          "state": {
            "_model_module": "@jupyter-widgets/controls",
            "_model_module_version": "1.5.0",
            "_model_name": "ProgressStyleModel",
            "_view_count": null,
            "_view_module": "@jupyter-widgets/base",
            "_view_module_version": "1.2.0",
            "_view_name": "StyleView",
            "bar_color": null,
            "description_width": ""
          }
        },
        "a01243572f7f47dfbf3deb44531f753e": {
          "model_module": "@jupyter-widgets/base",
          "model_name": "LayoutModel",
          "model_module_version": "1.2.0",
          "state": {
            "_model_module": "@jupyter-widgets/base",
            "_model_module_version": "1.2.0",
            "_model_name": "LayoutModel",
            "_view_count": null,
            "_view_module": "@jupyter-widgets/base",
            "_view_module_version": "1.2.0",
            "_view_name": "LayoutView",
            "align_content": null,
            "align_items": null,
            "align_self": null,
            "border": null,
            "bottom": null,
            "display": null,
            "flex": null,
            "flex_flow": null,
            "grid_area": null,
            "grid_auto_columns": null,
            "grid_auto_flow": null,
            "grid_auto_rows": null,
            "grid_column": null,
            "grid_gap": null,
            "grid_row": null,
            "grid_template_areas": null,
            "grid_template_columns": null,
            "grid_template_rows": null,
            "height": null,
            "justify_content": null,
            "justify_items": null,
            "left": null,
            "margin": null,
            "max_height": null,
            "max_width": null,
            "min_height": null,
            "min_width": null,
            "object_fit": null,
            "object_position": null,
            "order": null,
            "overflow": null,
            "overflow_x": null,
            "overflow_y": null,
            "padding": null,
            "right": null,
            "top": null,
            "visibility": null,
            "width": null
          }
        },
        "630ade3925c640589356da069fa409fc": {
          "model_module": "@jupyter-widgets/controls",
          "model_name": "DescriptionStyleModel",
          "model_module_version": "1.5.0",
          "state": {
            "_model_module": "@jupyter-widgets/controls",
            "_model_module_version": "1.5.0",
            "_model_name": "DescriptionStyleModel",
            "_view_count": null,
            "_view_module": "@jupyter-widgets/base",
            "_view_module_version": "1.2.0",
            "_view_name": "StyleView",
            "description_width": ""
          }
        }
      }
    }
  },
  "cells": [
    {
      "cell_type": "markdown",
      "metadata": {
        "id": "view-in-github",
        "colab_type": "text"
      },
      "source": [
        "<a href=\"https://colab.research.google.com/github/Virgil-L/llm-finetune-practice/blob/main/Finetune%E5%AE%9E%E6%88%98.ipynb\" target=\"_parent\"><img src=\"https://colab.research.google.com/assets/colab-badge.svg\" alt=\"Open In Colab\"/></a>"
      ]
    },
    {
      "cell_type": "markdown",
      "source": [
        "## 1. 准备工作"
      ],
      "metadata": {
        "id": "gn7Gqij9DBnO"
      }
    },
    {
      "cell_type": "markdown",
      "source": [
        "### 1.1 环境准备\n"
      ],
      "metadata": {
        "id": "oVFoZq4c4gqo"
      }
    },
    {
      "cell_type": "code",
      "execution_count": 1,
      "metadata": {
        "id": "p8RMz9YVAVoX"
      },
      "outputs": [],
      "source": [
        "#关闭安装的输出\n",
        "%%capture \n",
        "!pip install transformers\n",
        "!pip install datasets\n",
        "!pip install evaluate\n",
        "!pip install torchinfo\n"
      ]
    },
    {
      "cell_type": "markdown",
      "source": [
        "### 1.2 函数库与gpu使用"
      ],
      "metadata": {
        "id": "zojDZMAt1_db"
      }
    },
    {
      "cell_type": "code",
      "source": [
        "import torch\n",
        "from torch import nn\n",
        "from torch.optim import AdamW\n",
        "from torch.utils.data import DataLoader\n",
        "from datasets import load_dataset\n",
        "from datasets import load_from_disk\n",
        "from transformers import BertTokenizer, BertModel, AutoTokenizer\n",
        "from transformers import TrainingArguments, Trainer\n",
        "from datasets import load_metric\n",
        "from transformers.trainer_utils import EvalPrediction\n",
        "import evaluate\n",
        "\n",
        "# 使用gpu进行训练\n",
        "device = \"cuda\" if torch.cuda.is_available() else \"mps\" if torch.backends.mps.is_available() else \"cpu\"\n",
        "print(f\"Using {device} device\")\n",
        "# gpu型号\n",
        "!nvidia-smi\n"
      ],
      "metadata": {
        "id": "wan-g7-A3S_f",
        "colab": {
          "base_uri": "https://localhost:8080/"
        },
        "outputId": "5ef3f7ac-f2ae-44ba-aca9-84467bcc3363"
      },
      "execution_count": 2,
      "outputs": [
        {
          "output_type": "stream",
          "name": "stdout",
          "text": [
            "Using cpu device\n",
            "NVIDIA-SMI has failed because it couldn't communicate with the NVIDIA driver. Make sure that the latest NVIDIA driver is installed and running.\n",
            "\n"
          ]
        }
      ]
    },
    {
      "cell_type": "markdown",
      "source": [
        "### 1.3 goole drive连接"
      ],
      "metadata": {
        "id": "YqWgeHxxDQb5"
      }
    },
    {
      "cell_type": "code",
      "source": [
        "from google.colab import drive\n",
        "drive.mount('/content/drive')"
      ],
      "metadata": {
        "colab": {
          "base_uri": "https://localhost:8080/"
        },
        "id": "-aexU2WFDAc_",
        "outputId": "25e627ac-8df8-40fe-faa2-922637c93ff8"
      },
      "execution_count": null,
      "outputs": [
        {
          "output_type": "stream",
          "name": "stdout",
          "text": [
            "Drive already mounted at /content/drive; to attempt to forcibly remount, call drive.mount(\"/content/drive\", force_remount=True).\n"
          ]
        }
      ]
    },
    {
      "cell_type": "markdown",
      "source": [
        "## 2. 数据预处理"
      ],
      "metadata": {
        "id": "L8yj_QwJ4vdE"
      }
    },
    {
      "cell_type": "markdown",
      "source": [
        "### 2.1 数据集导入"
      ],
      "metadata": {
        "id": "iAue3vw-DwXX"
      }
    },
    {
      "cell_type": "code",
      "source": [
        "\n",
        "class Dataset(torch.utils.data.Dataset):\n",
        "  def __init__(self, split, filepath):\n",
        "    self.dataset = load_dataset(path=filepath,split=split)\n",
        "\n",
        "  def __len__(self):\n",
        "    return len(self.dataset)\n",
        "  \n",
        "  def __getitem__(self, i):\n",
        "    text = self.dataset[i]['text']\n",
        "    label = self.dataset[i]['label']\n",
        "\n",
        "    return text, label\n",
        "\n",
        "\n",
        "train_data = Dataset(filepath = 'seamew/ChnSentiCorp',split = 'train')\n",
        "val_data = Dataset(filepath = 'seamew/ChnSentiCorp',split = 'validation')\n",
        "test_data = Dataset(filepath = 'seamew/ChnSentiCorp',split = 'test')"
      ],
      "metadata": {
        "colab": {
          "base_uri": "https://localhost:8080/",
          "height": 90
        },
        "id": "5sb_AGGZ1Iiy",
        "outputId": "b0a9f39f-5de7-490c-ba3e-793a0321707b"
      },
      "execution_count": 6,
      "outputs": [
        {
          "output_type": "stream",
          "name": "stderr",
          "text": [
            "WARNING:datasets.builder:Found cached dataset chn_senti_corp (/root/.cache/huggingface/datasets/seamew___chn_senti_corp/default/0.0.0/1f242195a37831906957a11a2985a4329167e60657c07dc95ebe266c03fdfb85)\n",
            "WARNING:datasets.builder:Found cached dataset chn_senti_corp (/root/.cache/huggingface/datasets/seamew___chn_senti_corp/default/0.0.0/1f242195a37831906957a11a2985a4329167e60657c07dc95ebe266c03fdfb85)\n",
            "WARNING:datasets.builder:Found cached dataset chn_senti_corp (/root/.cache/huggingface/datasets/seamew___chn_senti_corp/default/0.0.0/1f242195a37831906957a11a2985a4329167e60657c07dc95ebe266c03fdfb85)\n"
          ]
        }
      ]
    },
    {
      "cell_type": "markdown",
      "source": [
        "### 2.2 分词和编码"
      ],
      "metadata": {
        "id": "7pVUZsVQDVBr"
      }
    },
    {
      "cell_type": "code",
      "source": [
        "mengzi_token = BertTokenizer.from_pretrained(\"Langboat/mengzi-bert-base-fin\")\n",
        "\n",
        "bert_bc_token = BertTokenizer.from_pretrained(\n",
        "    pretrained_model_name_or_path='bert-base-chinese',\n",
        "    cache_dir=None,\n",
        "    force_download=False\n",
        ")\n",
        "\n",
        "#获取字典\n",
        "#token_dict = tokenizer.get_vocab()\n",
        "#type(token_dict), len(token_dict), '月光' in token_dict\n",
        "#添加新词\n",
        "#tokenizer.add_token(new_tokens=['月光','希望'])\n",
        "#添加新符号\n",
        "#tokenizer.add_special_tokens({'eos_token':'[EOS]'})"
      ],
      "metadata": {
        "id": "rJpCYEQJAxX8",
        "colab": {
          "base_uri": "https://localhost:8080/",
          "height": 177,
          "referenced_widgets": [
            "c97db548a0b24ca49264ada4a4ec479a",
            "ecad75e2ec704e7896dbceaabbedcd38",
            "b524aa3de1204cd1b10a03d69fc5ce44",
            "5c7fa2abe653463c9bf8698825ac73fb",
            "fbe8985efa99485daa339378ab2705a8",
            "f7dd3b6b29594784b5ecaeed8583dbf5",
            "3e7189a222b6484b8f6f7c3f3d03f63c",
            "88560ace153e4aeca6ce402fc465f888",
            "a44ef1b321994b6f990f2f4e119a326b",
            "66c2a496f0c248d592cfd165ec5dc577",
            "9ff9e9bc62ce47d4a83d1a5a029e9460",
            "f61190755cf8448da540c4cf5f278000",
            "35640d3c673c419bbceb4832462de2fb",
            "ca0097e8d6444ffc917c24aac0d81413",
            "854453d676ba41e999c8025811ddd967",
            "825c455e7b9944189edc48ca9c1f94c0",
            "a006894eb8a946af8efd20d935003f79",
            "b2f4715f14884038a81dcbcf9f577a8a",
            "154d49a80c3e4212a1df340ebd53f181",
            "2f6cfb5686c84e05892d549b8d03bc29",
            "fa018eda80dd4b3e97528bef93604f58",
            "8ae3fbfdd4a9474dbdc4f2ade4daa6b0",
            "ca578fe9f04e487ba69bd814aab13bb8",
            "15eb85083a7c4330948be8286a3cc1f2",
            "73f7e0d695684d17bf5fe9431c43dcdf",
            "8a8c9384138448a4b7bc5d854897186e",
            "0cc13de4c1184a35b017db1366807833",
            "41aaed6181ae4c03824927ce59bc2f25",
            "a1e5a87e1b7e48899a4cc8f30fe5ade9",
            "44d012c5f7124ab087f4a38810fecf84",
            "1f6a34c5dea44224b8acf49720d3c5a0",
            "8b4afe5f0f504872ba68a29d1ab4de7d",
            "d4576160a4204ac49b77676499337039",
            "50802f9252ae4d5a9edd300c95ccc5fd",
            "006c53597c2e405b8dbe59a898451cc7",
            "3d2a03a08432493392335a4557e503e7",
            "89da3c9086be4e7998d2c4bfc8f3b411",
            "f1b69aa81c4c448d96c7277184f4adda",
            "3910db4a592749b9b22c2a6976ef7479",
            "405eb78d3dc24f599f05b13c04eaa4b0",
            "0aa8518fa208470995f06c00d5c28a5e",
            "efb04d353cec4cf59f894545ea28abdc",
            "80091ecdd9224af58fd4caa2ff3c977e",
            "838a62593254470fa3b1c1cde69e7951",
            "5b3fd4497d7943e29b71e4f2f6cec792",
            "6c8bfd9a0b9f4f1dbb2d10667984ed78",
            "06895f07e73444b2a21bdbd437cd3c4c",
            "d126e31f80084f85b73a1f14731e431c",
            "f678e34c9fc744aea3ba748d6592bc03",
            "3748631fd3c1436284b7c028f6a9e69b",
            "c7be9340f46d48aba43425a8a793cb95",
            "e99e833438da4085912e33a873712df5",
            "36b54f7ef47f4ac384841436f2047fae",
            "a01243572f7f47dfbf3deb44531f753e",
            "630ade3925c640589356da069fa409fc"
          ]
        },
        "outputId": "a54be155-b09b-4d6a-f1a0-a0aec202c238"
      },
      "execution_count": 4,
      "outputs": [
        {
          "output_type": "display_data",
          "data": {
            "text/plain": [
              "Downloading (…)solve/main/vocab.txt:   0%|          | 0.00/110k [00:00<?, ?B/s]"
            ],
            "application/vnd.jupyter.widget-view+json": {
              "version_major": 2,
              "version_minor": 0,
              "model_id": "c97db548a0b24ca49264ada4a4ec479a"
            }
          },
          "metadata": {}
        },
        {
          "output_type": "display_data",
          "data": {
            "text/plain": [
              "Downloading (…)lve/main/config.json:   0%|          | 0.00/849 [00:00<?, ?B/s]"
            ],
            "application/vnd.jupyter.widget-view+json": {
              "version_major": 2,
              "version_minor": 0,
              "model_id": "f61190755cf8448da540c4cf5f278000"
            }
          },
          "metadata": {}
        },
        {
          "output_type": "display_data",
          "data": {
            "text/plain": [
              "Downloading (…)solve/main/vocab.txt:   0%|          | 0.00/110k [00:00<?, ?B/s]"
            ],
            "application/vnd.jupyter.widget-view+json": {
              "version_major": 2,
              "version_minor": 0,
              "model_id": "ca578fe9f04e487ba69bd814aab13bb8"
            }
          },
          "metadata": {}
        },
        {
          "output_type": "display_data",
          "data": {
            "text/plain": [
              "Downloading (…)okenizer_config.json:   0%|          | 0.00/29.0 [00:00<?, ?B/s]"
            ],
            "application/vnd.jupyter.widget-view+json": {
              "version_major": 2,
              "version_minor": 0,
              "model_id": "50802f9252ae4d5a9edd300c95ccc5fd"
            }
          },
          "metadata": {}
        },
        {
          "output_type": "display_data",
          "data": {
            "text/plain": [
              "Downloading (…)lve/main/config.json:   0%|          | 0.00/624 [00:00<?, ?B/s]"
            ],
            "application/vnd.jupyter.widget-view+json": {
              "version_major": 2,
              "version_minor": 0,
              "model_id": "5b3fd4497d7943e29b71e4f2f6cec792"
            }
          },
          "metadata": {}
        }
      ]
    },
    {
      "cell_type": "markdown",
      "source": [
        "### 2.3 定义批处理函数"
      ],
      "metadata": {
        "id": "IvSQLaDQ5nWs"
      }
    },
    {
      "cell_type": "code",
      "source": [
        "def bc_collate_fn(data):\n",
        "  sents = [i[0] for i in data]\n",
        "  labels = [i[1] for i in data]\n",
        "  #编码\n",
        "  data = bert_bc_token.batch_encode_plus(batch_text_or_text_pairs=sents,\n",
        "                                 truncation=True,\n",
        "                                 padding='max_length',\n",
        "                                 max_length=512,\n",
        "                                 return_tensors='pt',\n",
        "                                 return_length=True)\n",
        "  #input_ids:编码之后的数字\n",
        "  #attention_mask:补零的位置三0，其他位置是1\n",
        "  input_ids = data['input_ids'].to(device)\n",
        "  attention_mask = data['attention_mask'].to(device)\n",
        "  token_type_ids = data['token_type_ids'].to(device)\n",
        "  labels = torch.LongTensor(labels).to(device)\n",
        "\n",
        "  return input_ids, attention_mask, token_type_ids, labels\n",
        "\n",
        "\n",
        "def mengzi_collate_fn(data):\n",
        "  sents = [i[0] for i in data]\n",
        "  labels = [i[1] for i in data]\n",
        "  #编码\n",
        "  data = mengzi_token.batch_encode_plus(batch_text_or_text_pairs=sents,\n",
        "                                 truncation=True,\n",
        "                                 padding='max_length',\n",
        "                                 max_length=512,\n",
        "                                 return_tensors='pt',\n",
        "                                 return_length=True)\n",
        "  \n",
        "  #input_ids:编码之后的数字\n",
        "  #attention_mask:补零的位置三0，其他位置是1\n",
        "  input_ids = data['input_ids'].to(device)\n",
        "  attention_mask = data['attention_mask'].to(device)\n",
        "  token_type_ids = data['token_type_ids'].to(device)\n",
        "  labels = torch.LongTensor(labels).to(device)\n",
        "\n",
        "  return input_ids, attention_mask, token_type_ids, labels\n",
        "\n",
        "#导入数据，这一步合并到trainner中了\n",
        "train_loader_bertcn = DataLoader(dataset=train_data,\n",
        "                    batch_size=64,\n",
        "                    collate_fn=bc_collate_fn,\n",
        "                    shuffle=True,\n",
        "                    drop_last=True)\n",
        "\n",
        "train_loader_mengzi = DataLoader(dataset=train_data,\n",
        "                    batch_size=64,\n",
        "                    collate_fn=mengzi_collate_fn,\n",
        "                    shuffle=True,\n",
        "                    drop_last=True)\n",
        "\n",
        "val_loader = DataLoader(dataset=val_data,\n",
        "                           batch_size=64,\n",
        "                           collate_fn=mengzi_collate_fn,\n",
        "                           shuffle=True,\n",
        "                           drop_last=True)\n",
        "\n",
        "test_loader = DataLoader(dataset=test_data,\n",
        "                           batch_size=64,\n",
        "                           collate_fn=mengzi_collate_fn,\n",
        "                           shuffle=True,\n",
        "                           drop_last=True)\n",
        "for i, (input_ids, attention_mask, token_type_ids, labels) in enumerate(train_loader_mengzi):\n",
        "  break\n",
        "print(len(train_loader_mengzi))\n",
        "input_ids.shape, attention_mask.shape, token_type_ids.shape, labels.shape\n",
        "\n",
        "\n",
        "# for batch in train_dataloader:\n",
        "#   batch = {k: v.to(device) for k, v in batch.items()}\n",
        "#   outputs = model(**batch)"
      ],
      "metadata": {
        "id": "BG0IpD_J5qW4",
        "colab": {
          "base_uri": "https://localhost:8080/"
        },
        "outputId": "88eae1ca-5f49-4ef3-a9e9-0d9752ac219f"
      },
      "execution_count": 36,
      "outputs": [
        {
          "output_type": "stream",
          "name": "stdout",
          "text": [
            "150\n"
          ]
        },
        {
          "output_type": "execute_result",
          "data": {
            "text/plain": [
              "(torch.Size([64, 512]),\n",
              " torch.Size([64, 512]),\n",
              " torch.Size([64, 512]),\n",
              " torch.Size([64]))"
            ]
          },
          "metadata": {},
          "execution_count": 36
        }
      ]
    },
    {
      "cell_type": "markdown",
      "source": [
        "## 3. 模型\n"
      ],
      "metadata": {
        "id": "Djt3oN503eH8"
      }
    },
    {
      "cell_type": "markdown",
      "source": [
        "### 3.1 加载预训练模型"
      ],
      "metadata": {
        "id": "w18MfAc9EZ6J"
      }
    },
    {
      "cell_type": "code",
      "source": [
        "#加载预训练模型\n",
        "bert_bc_pretrained = BertModel.from_pretrained(\"bert-base-chinese\").to(device)\n",
        "mengzi_pretrained = BertModel.from_pretrained(\"Langboat/mengzi-bert-base-fin\").to(device)\n",
        "\n",
        "#不使用finetuning，直接冻结预训练模型的参数\n",
        "for param in bert_bc_pretrained.parameters():\n",
        "  param.requires_grad_(False)\n",
        "\n",
        "#模型试算\n",
        "#out = bert_bc_pretrained(input_ids=input_ids,\n",
        "#                 attention_mask=attention_mask,\n",
        "#                 token_type_ids=token_type_ids)\n",
        "\n",
        "#out.last_hidden_state.shape\n",
        "\n",
        "print('param_num: ' + str(sum([i.nelement() for i in mengzi_pretrained.parameters()]) / 10000))"
      ],
      "metadata": {
        "colab": {
          "base_uri": "https://localhost:8080/"
        },
        "id": "2FS9Y1woEXRK",
        "outputId": "ff1591df-7974-4a31-8227-491618e52978"
      },
      "execution_count": 37,
      "outputs": [
        {
          "output_type": "stream",
          "name": "stderr",
          "text": [
            "Some weights of the model checkpoint at bert-base-chinese were not used when initializing BertModel: ['cls.predictions.decoder.weight', 'cls.seq_relationship.bias', 'cls.predictions.transform.LayerNorm.bias', 'cls.predictions.transform.dense.bias', 'cls.predictions.transform.dense.weight', 'cls.seq_relationship.weight', 'cls.predictions.bias', 'cls.predictions.transform.LayerNorm.weight']\n",
            "- This IS expected if you are initializing BertModel from the checkpoint of a model trained on another task or with another architecture (e.g. initializing a BertForSequenceClassification model from a BertForPreTraining model).\n",
            "- This IS NOT expected if you are initializing BertModel from the checkpoint of a model that you expect to be exactly identical (initializing a BertForSequenceClassification model from a BertForSequenceClassification model).\n",
            "Some weights of the model checkpoint at Langboat/mengzi-bert-base-fin were not used when initializing BertModel: ['sop.cls.weight', 'sop.cls.bias', 'pos_transform.LayerNorm.bias', 'pos_transform.dense.weight', 'pos_head.weight', 'cls.predictions.decoder.weight', 'cls.predictions.transform.LayerNorm.bias', 'cls.predictions.decoder.bias', 'pos_transform.dense.bias', 'pos_transform.LayerNorm.weight', 'cls.predictions.transform.dense.bias', 'pos_head.bias', 'cls.predictions.transform.dense.weight', 'cls.predictions.bias', 'cls.predictions.transform.LayerNorm.weight']\n",
            "- This IS expected if you are initializing BertModel from the checkpoint of a model trained on another task or with another architecture (e.g. initializing a BertForSequenceClassification model from a BertForPreTraining model).\n",
            "- This IS NOT expected if you are initializing BertModel from the checkpoint of a model that you expect to be exactly identical (initializing a BertForSequenceClassification model from a BertForSequenceClassification model).\n"
          ]
        },
        {
          "output_type": "stream",
          "name": "stdout",
          "text": [
            "param_num: 10226.7648\n"
          ]
        }
      ]
    },
    {
      "cell_type": "markdown",
      "source": [
        "### 3.2 定义下游任务模型"
      ],
      "metadata": {
        "id": "LkNE7SM1xg2i"
      }
    },
    {
      "cell_type": "code",
      "source": [
        "class Downstream_Model(nn.Module):\n",
        "  def __init__(self):\n",
        "    super().__init__()\n",
        "    self.fc = nn.Linear(768,2)\n",
        "  \n",
        "  def forward(self, input_ids, attention_mask, token_type_ids):\n",
        "    with torch.no_grad():\n",
        "      out = bert_bc_pretrained(input_ids=input_ids,\n",
        "                 attention_mask=attention_mask,\n",
        "                 token_type_ids=token_type_ids)\n",
        "      \n",
        "    out = self.fc(out.last_hidden_state[:, 0])\n",
        "\n",
        "    out = out.softmax(dim=1)\n",
        "\n",
        "    return out\n",
        "\n",
        "model = Downstream_Model().to(device)"
      ],
      "metadata": {
        "id": "rox3vdQmxj1f"
      },
      "execution_count": 38,
      "outputs": []
    },
    {
      "cell_type": "markdown",
      "source": [
        "## 4. 训练下游任务模型"
      ],
      "metadata": {
        "id": "dztSnKfh0K43"
      }
    },
    {
      "cell_type": "code",
      "source": [
        "#定义优化器、损失函数、评价指标\n",
        "#optimizer = AdamW(model.parameters(), lr=5e-4)\n",
        "#loss_fn = nn.CrossEntropyLoss()\n",
        "#metric = evaluate.load('accuracy')\n",
        "\n",
        "# #初始化训练参数\n",
        "# args = TrainingArguments(output_dir='./output_dir',\n",
        "#                          overwrite_output_dir = False,\n",
        "#                          evaluation_strategy='epoch',\n",
        "#                          num_train_epochs = 10,\n",
        "#                          learning_rate = 1e-4, #优化器默认为AdamW\n",
        "#                          adam_beta1 = 0.9,\n",
        "#                          adam_beta2 = 0.999,\n",
        "#                          adam_epsilon = 1e-8,\n",
        "#                          weight_decay = 1e-2, #各层的权重衰减\n",
        "#                          max_grad_norm = 1.0, #梯度裁剪\n",
        "#                          per_device_eval_batch_size = 64,\n",
        "#                          per_device_train_batch_size = 64,\n",
        "#                          lr_scheduler_type = 'linear',\n",
        "#                          save_strategy = 'epoch',\n",
        "#                          no_cuda = False,\n",
        "#                          seed = 1024,\n",
        "#                          data_seed = 1024,\n",
        "#                          load_best_model_at_end = False,\n",
        "#                          metric_for_best_model = 'loss',\n",
        "#                          greater_is_better = False\n",
        "#                          )\n",
        "\n",
        "# #初始化训练器                         \n",
        "# trainer = Trainer(\n",
        "#     model = model,\n",
        "#     args = args,\n",
        "#     data_collator = mengzi_collate_fn, #构建batch\n",
        "#     train_dataset = train_data,\n",
        "#     eval_dataset = val_data,\n",
        "#     compute_metrics = metric,\n",
        "#     tokenizer = mengzi_token\n",
        "#     #callbacks = \n",
        "#     #optimizers = \n",
        "# )\n",
        "\n",
        "# trainer.train()\n",
        "\n",
        "def train_func(model, loss_fn, optimizer, n_epochs, train_loader, var_loader=None):\n",
        "  for t in range(n_epochs):\n",
        "    print(f\"Epoch {t+1}\\n-------------------------------\")\n",
        "\n",
        "\n",
        "    model.train()\n",
        "    size = len(train_loader.dataset)\n",
        "    for batch, (input_ids, attention_mask, token_type_ids, labels) in enumerate(train_loader):\n",
        "      out = model(input_ids=input_ids,\n",
        "                  attention_mask=attention_mask,\n",
        "                  token_type_ids=token_type_ids)\n",
        "\n",
        "      loss = loss_fn(out, labels)\n",
        "      optimizer.zero_grad()\n",
        "      loss.backward()\n",
        "      optimizer.step()\n",
        "\n",
        "      if batch % 10 == 0:\n",
        "        loss, current = loss.item(), (batch+1) * len(input_ids)\n",
        "        print(f\"loss: {loss:>7f}  [{current:>5d}/{size:>5d}]\")\n",
        "  if var_loader != None:\n",
        "    test_func(dataloader=val_loader, model=model, loss_fn=loss_fn, tp = 'validation')\n",
        "  print(\"\\n training_finished\")\n",
        "    \n",
        "\n",
        "def test_func(dataloader, model, loss_fn, tp='validation'):\n",
        "  size = len(dataloader.dataset)\n",
        "  num_batches = len(dataloader)\n",
        "  test_loss, correct = 0, 0\n",
        "\n",
        "  with torch.no_grad(): #停止梯度计算\n",
        "    for i, (input_ids, attention_mask, token_type_ids, labels) in enumerate(dataloader):\n",
        "      pred = model(input_ids=input_ids,\n",
        "                  attention_mask=attention_mask,\n",
        "                  token_type_ids=token_type_ids)\n",
        "      test_loss += loss_fn(pred, labels).item()\n",
        "      correct += (pred.argmax(1) == labels).type(torch.float).sum().item()\n",
        "  \n",
        "  test_loss /= num_batches\n",
        "  correct /= size\n",
        "\n",
        "  if tp == 'test':\n",
        "    print(f\"Test Error: \\n Accuracy: {(100*correct):>0.1f}%, Avg loss: {test_loss:>8f} \\n\")\n",
        "  elif tp == 'validation':\n",
        "    print(f\"Val Error: \\n Accuracy: {(100*correct):>0.1f}%, Avg loss: {test_loss:>8f} \\n\")\n"
      ],
      "metadata": {
        "id": "MR2lfgyZ0JV8"
      },
      "execution_count": 39,
      "outputs": []
    },
    {
      "cell_type": "code",
      "source": [
        "# for i, (input_ids, attention_mask, token_type_ids, labels) in enumerate(train_loader_mengzi):\n",
        "#   pred = model(input_ids=input_ids,\n",
        "#                   attention_mask=attention_mask,\n",
        "#                   token_type_ids=token_type_ids)\n",
        "#   loss = nn.CrossEntropyLoss(pred, labels)\n",
        "#   break"
      ],
      "metadata": {
        "id": "QpjhEwMeZCeQ"
      },
      "execution_count": null,
      "outputs": []
    },
    {
      "cell_type": "code",
      "source": [
        "train_func(train_loader = train_loader_mengzi,\n",
        "           var_loader=None, \n",
        "           model = model, \n",
        "           loss_fn = nn.CrossEntropyLoss(), \n",
        "           optimizer = AdamW(model.parameters(), lr=5e-4), \n",
        "           n_epochs=10)"
      ],
      "metadata": {
        "id": "yyEjTnU3R67u",
        "colab": {
          "base_uri": "https://localhost:8080/"
        },
        "outputId": "581bd534-2f31-40a3-aab2-7a8d5cf30683"
      },
      "execution_count": null,
      "outputs": [
        {
          "metadata": {
            "tags": null
          },
          "name": "stdout",
          "output_type": "stream",
          "text": [
            "Epoch 1\n",
            "-------------------------------\n",
            "loss: 0.705030  [    0/ 9600]\n",
            "loss: 0.640783  [  640/ 9600]\n"
          ]
        }
      ]
    },
    {
      "cell_type": "markdown",
      "source": [
        "## 5. 测试模型效果"
      ],
      "metadata": {
        "id": "JJPAHGr-LEW8"
      }
    },
    {
      "cell_type": "code",
      "source": [
        "test_func(dataloader=test_loader, \n",
        "          model=model, \n",
        "          loss_fn = nn.CrossEntropyLoss(), \n",
        "          tp='test')"
      ],
      "metadata": {
        "id": "H8ZyuCD9K_tN"
      },
      "execution_count": null,
      "outputs": []
    }
  ]
}